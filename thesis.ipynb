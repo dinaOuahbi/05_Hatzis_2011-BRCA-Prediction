{
  "nbformat": 4,
  "nbformat_minor": 0,
  "metadata": {
    "colab": {
      "name": "Audrey_thesis.ipynb",
      "provenance": [],
      "authorship_tag": "ABX9TyMtdaO9fK7s/zMUR7bzm9Qn",
      "include_colab_link": true
    },
    "kernelspec": {
      "name": "python3",
      "display_name": "Python 3"
    },
    "language_info": {
      "name": "python"
    }
  },
  "cells": [
    {
      "cell_type": "markdown",
      "metadata": {
        "id": "view-in-github",
        "colab_type": "text"
      },
      "source": [
        "<a href=\"https://colab.research.google.com/github/dinaOuahbi/05_Hatzis_2011-BRCA-Prediction/blob/main/thesis.ipynb\" target=\"_parent\"><img src=\"https://colab.research.google.com/assets/colab-badge.svg\" alt=\"Open In Colab\"/></a>"
      ]
    },
    {
      "cell_type": "code",
      "execution_count": 319,
      "metadata": {
        "id": "r-BBKYjKgHbP"
      },
      "outputs": [],
      "source": [
        "import pandas as pd\n",
        "import numpy as np\n",
        "%matplotlib inline\n",
        "import matplotlib.pyplot as plt\n",
        "from sksurv.nonparametric import kaplan_meier_estimator\n",
        "from sksurv.compare import compare_survival"
      ]
    },
    {
      "cell_type": "code",
      "source": [
        "df_r = pd.read_excel('/content/GLI_rad.xlsx')\n",
        "df_s = pd.read_excel('/content/GLI_surg.xlsx')"
      ],
      "metadata": {
        "id": "t1tjzStbgUkI"
      },
      "execution_count": 320,
      "outputs": []
    },
    {
      "cell_type": "code",
      "source": [
        "df_r['GROUP'] = 'rad'\n",
        "df_s['GROUP'] = 'surg'\n",
        "df = pd.concat([df_r, df_s])\n",
        "df.head()"
      ],
      "metadata": {
        "colab": {
          "base_uri": "https://localhost:8080/",
          "height": 366
        },
        "id": "uOvPuXaXhH3R",
        "outputId": "92339760-0ae5-4512-a87a-c8ee9b68416e"
      },
      "execution_count": 321,
      "outputs": [
        {
          "output_type": "execute_result",
          "data": {
            "text/plain": [
              "          NOM   PRENOM                  DDN  AGE SEXE DIABETE CŒUR REINS  \\\n",
              "0     MATHIEU   JOSEPH  1973-12-01 00:00:00   45    H     NON  OUI   NON   \n",
              "1  REBOUILLAT   PASCAL  1968-02-20 00:00:00   47    H     NON  NON   NON   \n",
              "2      DANNER  MARTINE  1959-03-27 00:00:00   54    F     NON  NON   NON   \n",
              "3     LEGROS     ALETH  1956-12-15 00:00:00   56    F     NON  NON   OUI   \n",
              "4     GLARMET     YVAN  1957-10-25 00:00:00   59    H     NON  OUI   NON   \n",
              "\n",
              "  IMMUNODEP TABAC  ...  KPS2 EPILEPSIE  AEG DEFICIT   CTC2  \\\n",
              "0       NON   OUI  ...  80.0       1.0  1.0     1.0  160.0   \n",
              "1       NON   OUI  ...  60.0       1.0  0.0     0.0   60.0   \n",
              "2       OUI   OUI  ...  70.0       1.0  1.0     1.0   60.0   \n",
              "3       NON   NON  ...  40.0       0.0  0.0     1.0  120.0   \n",
              "4       NON   OUI  ...  80.0       1.0  0.0     1.0   60.0   \n",
              "\n",
              "           DATECHIMIO2           FINCHIMIO2 DECES            DATEDECES GROUP  \n",
              "0  2020-05-26 00:00:00  2020-09-28 00:00:00   NON                  NaN   rad  \n",
              "1  2016-09-01 00:00:00                  NaN   OUI  2016-09-01 00:00:00   rad  \n",
              "2  2019-05-06 00:00:00  2019-09-23 00:00:00   OUI  2020-09-17 00:00:00   rad  \n",
              "3  2015-10-16 00:00:00  2016-01-15 00:00:00   OUI  2016-04-12 00:00:00   rad  \n",
              "4  2019-04-17 00:00:00  2020-10-12 00:00:00   OUI  2021-02-10 00:00:00   rad  \n",
              "\n",
              "[5 rows x 36 columns]"
            ],
            "text/html": [
              "\n",
              "  <div id=\"df-008c632a-0614-4b33-9502-244c05d225a6\">\n",
              "    <div class=\"colab-df-container\">\n",
              "      <div>\n",
              "<style scoped>\n",
              "    .dataframe tbody tr th:only-of-type {\n",
              "        vertical-align: middle;\n",
              "    }\n",
              "\n",
              "    .dataframe tbody tr th {\n",
              "        vertical-align: top;\n",
              "    }\n",
              "\n",
              "    .dataframe thead th {\n",
              "        text-align: right;\n",
              "    }\n",
              "</style>\n",
              "<table border=\"1\" class=\"dataframe\">\n",
              "  <thead>\n",
              "    <tr style=\"text-align: right;\">\n",
              "      <th></th>\n",
              "      <th>NOM</th>\n",
              "      <th>PRENOM</th>\n",
              "      <th>DDN</th>\n",
              "      <th>AGE</th>\n",
              "      <th>SEXE</th>\n",
              "      <th>DIABETE</th>\n",
              "      <th>CŒUR</th>\n",
              "      <th>REINS</th>\n",
              "      <th>IMMUNODEP</th>\n",
              "      <th>TABAC</th>\n",
              "      <th>...</th>\n",
              "      <th>KPS2</th>\n",
              "      <th>EPILEPSIE</th>\n",
              "      <th>AEG</th>\n",
              "      <th>DEFICIT</th>\n",
              "      <th>CTC2</th>\n",
              "      <th>DATECHIMIO2</th>\n",
              "      <th>FINCHIMIO2</th>\n",
              "      <th>DECES</th>\n",
              "      <th>DATEDECES</th>\n",
              "      <th>GROUP</th>\n",
              "    </tr>\n",
              "  </thead>\n",
              "  <tbody>\n",
              "    <tr>\n",
              "      <th>0</th>\n",
              "      <td>MATHIEU</td>\n",
              "      <td>JOSEPH</td>\n",
              "      <td>1973-12-01 00:00:00</td>\n",
              "      <td>45</td>\n",
              "      <td>H</td>\n",
              "      <td>NON</td>\n",
              "      <td>OUI</td>\n",
              "      <td>NON</td>\n",
              "      <td>NON</td>\n",
              "      <td>OUI</td>\n",
              "      <td>...</td>\n",
              "      <td>80.0</td>\n",
              "      <td>1.0</td>\n",
              "      <td>1.0</td>\n",
              "      <td>1.0</td>\n",
              "      <td>160.0</td>\n",
              "      <td>2020-05-26 00:00:00</td>\n",
              "      <td>2020-09-28 00:00:00</td>\n",
              "      <td>NON</td>\n",
              "      <td>NaN</td>\n",
              "      <td>rad</td>\n",
              "    </tr>\n",
              "    <tr>\n",
              "      <th>1</th>\n",
              "      <td>REBOUILLAT</td>\n",
              "      <td>PASCAL</td>\n",
              "      <td>1968-02-20 00:00:00</td>\n",
              "      <td>47</td>\n",
              "      <td>H</td>\n",
              "      <td>NON</td>\n",
              "      <td>NON</td>\n",
              "      <td>NON</td>\n",
              "      <td>NON</td>\n",
              "      <td>OUI</td>\n",
              "      <td>...</td>\n",
              "      <td>60.0</td>\n",
              "      <td>1.0</td>\n",
              "      <td>0.0</td>\n",
              "      <td>0.0</td>\n",
              "      <td>60.0</td>\n",
              "      <td>2016-09-01 00:00:00</td>\n",
              "      <td>NaN</td>\n",
              "      <td>OUI</td>\n",
              "      <td>2016-09-01 00:00:00</td>\n",
              "      <td>rad</td>\n",
              "    </tr>\n",
              "    <tr>\n",
              "      <th>2</th>\n",
              "      <td>DANNER</td>\n",
              "      <td>MARTINE</td>\n",
              "      <td>1959-03-27 00:00:00</td>\n",
              "      <td>54</td>\n",
              "      <td>F</td>\n",
              "      <td>NON</td>\n",
              "      <td>NON</td>\n",
              "      <td>NON</td>\n",
              "      <td>OUI</td>\n",
              "      <td>OUI</td>\n",
              "      <td>...</td>\n",
              "      <td>70.0</td>\n",
              "      <td>1.0</td>\n",
              "      <td>1.0</td>\n",
              "      <td>1.0</td>\n",
              "      <td>60.0</td>\n",
              "      <td>2019-05-06 00:00:00</td>\n",
              "      <td>2019-09-23 00:00:00</td>\n",
              "      <td>OUI</td>\n",
              "      <td>2020-09-17 00:00:00</td>\n",
              "      <td>rad</td>\n",
              "    </tr>\n",
              "    <tr>\n",
              "      <th>3</th>\n",
              "      <td>LEGROS</td>\n",
              "      <td>ALETH</td>\n",
              "      <td>1956-12-15 00:00:00</td>\n",
              "      <td>56</td>\n",
              "      <td>F</td>\n",
              "      <td>NON</td>\n",
              "      <td>NON</td>\n",
              "      <td>OUI</td>\n",
              "      <td>NON</td>\n",
              "      <td>NON</td>\n",
              "      <td>...</td>\n",
              "      <td>40.0</td>\n",
              "      <td>0.0</td>\n",
              "      <td>0.0</td>\n",
              "      <td>1.0</td>\n",
              "      <td>120.0</td>\n",
              "      <td>2015-10-16 00:00:00</td>\n",
              "      <td>2016-01-15 00:00:00</td>\n",
              "      <td>OUI</td>\n",
              "      <td>2016-04-12 00:00:00</td>\n",
              "      <td>rad</td>\n",
              "    </tr>\n",
              "    <tr>\n",
              "      <th>4</th>\n",
              "      <td>GLARMET</td>\n",
              "      <td>YVAN</td>\n",
              "      <td>1957-10-25 00:00:00</td>\n",
              "      <td>59</td>\n",
              "      <td>H</td>\n",
              "      <td>NON</td>\n",
              "      <td>OUI</td>\n",
              "      <td>NON</td>\n",
              "      <td>NON</td>\n",
              "      <td>OUI</td>\n",
              "      <td>...</td>\n",
              "      <td>80.0</td>\n",
              "      <td>1.0</td>\n",
              "      <td>0.0</td>\n",
              "      <td>1.0</td>\n",
              "      <td>60.0</td>\n",
              "      <td>2019-04-17 00:00:00</td>\n",
              "      <td>2020-10-12 00:00:00</td>\n",
              "      <td>OUI</td>\n",
              "      <td>2021-02-10 00:00:00</td>\n",
              "      <td>rad</td>\n",
              "    </tr>\n",
              "  </tbody>\n",
              "</table>\n",
              "<p>5 rows × 36 columns</p>\n",
              "</div>\n",
              "      <button class=\"colab-df-convert\" onclick=\"convertToInteractive('df-008c632a-0614-4b33-9502-244c05d225a6')\"\n",
              "              title=\"Convert this dataframe to an interactive table.\"\n",
              "              style=\"display:none;\">\n",
              "        \n",
              "  <svg xmlns=\"http://www.w3.org/2000/svg\" height=\"24px\"viewBox=\"0 0 24 24\"\n",
              "       width=\"24px\">\n",
              "    <path d=\"M0 0h24v24H0V0z\" fill=\"none\"/>\n",
              "    <path d=\"M18.56 5.44l.94 2.06.94-2.06 2.06-.94-2.06-.94-.94-2.06-.94 2.06-2.06.94zm-11 1L8.5 8.5l.94-2.06 2.06-.94-2.06-.94L8.5 2.5l-.94 2.06-2.06.94zm10 10l.94 2.06.94-2.06 2.06-.94-2.06-.94-.94-2.06-.94 2.06-2.06.94z\"/><path d=\"M17.41 7.96l-1.37-1.37c-.4-.4-.92-.59-1.43-.59-.52 0-1.04.2-1.43.59L10.3 9.45l-7.72 7.72c-.78.78-.78 2.05 0 2.83L4 21.41c.39.39.9.59 1.41.59.51 0 1.02-.2 1.41-.59l7.78-7.78 2.81-2.81c.8-.78.8-2.07 0-2.86zM5.41 20L4 18.59l7.72-7.72 1.47 1.35L5.41 20z\"/>\n",
              "  </svg>\n",
              "      </button>\n",
              "      \n",
              "  <style>\n",
              "    .colab-df-container {\n",
              "      display:flex;\n",
              "      flex-wrap:wrap;\n",
              "      gap: 12px;\n",
              "    }\n",
              "\n",
              "    .colab-df-convert {\n",
              "      background-color: #E8F0FE;\n",
              "      border: none;\n",
              "      border-radius: 50%;\n",
              "      cursor: pointer;\n",
              "      display: none;\n",
              "      fill: #1967D2;\n",
              "      height: 32px;\n",
              "      padding: 0 0 0 0;\n",
              "      width: 32px;\n",
              "    }\n",
              "\n",
              "    .colab-df-convert:hover {\n",
              "      background-color: #E2EBFA;\n",
              "      box-shadow: 0px 1px 2px rgba(60, 64, 67, 0.3), 0px 1px 3px 1px rgba(60, 64, 67, 0.15);\n",
              "      fill: #174EA6;\n",
              "    }\n",
              "\n",
              "    [theme=dark] .colab-df-convert {\n",
              "      background-color: #3B4455;\n",
              "      fill: #D2E3FC;\n",
              "    }\n",
              "\n",
              "    [theme=dark] .colab-df-convert:hover {\n",
              "      background-color: #434B5C;\n",
              "      box-shadow: 0px 1px 3px 1px rgba(0, 0, 0, 0.15);\n",
              "      filter: drop-shadow(0px 1px 2px rgba(0, 0, 0, 0.3));\n",
              "      fill: #FFFFFF;\n",
              "    }\n",
              "  </style>\n",
              "\n",
              "      <script>\n",
              "        const buttonEl =\n",
              "          document.querySelector('#df-008c632a-0614-4b33-9502-244c05d225a6 button.colab-df-convert');\n",
              "        buttonEl.style.display =\n",
              "          google.colab.kernel.accessAllowed ? 'block' : 'none';\n",
              "\n",
              "        async function convertToInteractive(key) {\n",
              "          const element = document.querySelector('#df-008c632a-0614-4b33-9502-244c05d225a6');\n",
              "          const dataTable =\n",
              "            await google.colab.kernel.invokeFunction('convertToInteractive',\n",
              "                                                     [key], {});\n",
              "          if (!dataTable) return;\n",
              "\n",
              "          const docLinkHtml = 'Like what you see? Visit the ' +\n",
              "            '<a target=\"_blank\" href=https://colab.research.google.com/notebooks/data_table.ipynb>data table notebook</a>'\n",
              "            + ' to learn more about interactive tables.';\n",
              "          element.innerHTML = '';\n",
              "          dataTable['output_type'] = 'display_data';\n",
              "          await google.colab.output.renderOutput(dataTable, element);\n",
              "          const docLink = document.createElement('div');\n",
              "          docLink.innerHTML = docLinkHtml;\n",
              "          element.appendChild(docLink);\n",
              "        }\n",
              "      </script>\n",
              "    </div>\n",
              "  </div>\n",
              "  "
            ]
          },
          "metadata": {},
          "execution_count": 321
        }
      ]
    },
    {
      "cell_type": "code",
      "source": [
        "df['ID'] = df[['NOM', 'PRENOM']].agg('_'.join, axis=1)\n",
        "df.drop(['NOM', 'PRENOM'], axis=1, inplace=True)\n",
        "df.set_index('ID', inplace=True)"
      ],
      "metadata": {
        "id": "58MLIQFokVzc"
      },
      "execution_count": 322,
      "outputs": []
    },
    {
      "cell_type": "code",
      "source": [
        "# NA\n",
        "plt.figure(figsize=(20,3))\n",
        "plt.subplot(1,2,1)\n",
        "df[df['GROUP'] =='surg'].isna().sum(axis=0).plot(kind='bar')\n",
        "plt.grid(b='on')\n",
        "plt.ylabel('NAN coutns (SURG)')\n",
        "\n",
        "plt.subplot(1,2,2)\n",
        "df[df['GROUP'] =='rad'].isna().sum(axis=0).plot(kind='bar')\n",
        "plt.grid(b='on')\n",
        "plt.ylabel('NAN coutns (RAD)')"
      ],
      "metadata": {
        "colab": {
          "base_uri": "https://localhost:8080/",
          "height": 300
        },
        "id": "iCj1Sfu8lOy9",
        "outputId": "ee8af9ff-e971-4dab-c3ce-9fc4b921e44f"
      },
      "execution_count": 323,
      "outputs": [
        {
          "output_type": "execute_result",
          "data": {
            "text/plain": [
              "Text(0, 0.5, 'NAN coutns (RAD)')"
            ]
          },
          "metadata": {},
          "execution_count": 323
        },
        {
          "output_type": "display_data",
          "data": {
            "text/plain": [
              "<Figure size 1440x216 with 2 Axes>"
            ],
            "image/png": "[encoded data removed]"
          },
          "metadata": {
            "needs_background": "light"
          }
        }
      ]
    },
    {
      "cell_type": "code",
      "source": [
        "# KPS1 / KPS2\n",
        "def replace_KPS(data_x, col, dich):\n",
        "  temp = list()\n",
        "  for i in data_x[col]:\n",
        "    if i>dich:\n",
        "      temp.append(1)\n",
        "    elif i<=dich:\n",
        "      temp.append(0)\n",
        "    else:\n",
        "      temp.append(i)\n",
        "  data_x[col] = temp\n",
        "\n",
        "replace_KPS(df, 'KPS1', 70)\n",
        "replace_KPS(df, 'KPS2', 70)"
      ],
      "metadata": {
        "id": "RBNn0AoYsaiZ"
      },
      "execution_count": 324,
      "outputs": []
    },
    {
      "cell_type": "code",
      "source": [
        "# CTC2\n",
        "for i in df['CTC2']:\n",
        "  if i <= 40:\n",
        "    df['CTC2'] = df['CTC2'].replace({i:'low'})\n",
        "  elif i>=60 and i<=80:\n",
        "    df['CTC2'] = df['CTC2'].replace({i:'medium'})\n",
        "  else:\n",
        "    df['CTC2'] = df['CTC2'].replace({i:'hight'})\n"
      ],
      "metadata": {
        "id": "RwaS1BO-9Bri"
      },
      "execution_count": 325,
      "outputs": []
    },
    {
      "cell_type": "code",
      "source": [
        "# convert to object \n",
        "for col in df.select_dtypes('float').columns.to_list():\n",
        "  df[col]=df[col].astype('object')\n",
        "  print(df[col].dtypes)"
      ],
      "metadata": {
        "colab": {
          "base_uri": "https://localhost:8080/"
        },
        "id": "mBNdwbLN-rMZ",
        "outputId": "ea97d4c6-b29c-47d5-a8e6-bd6f0c33fa59"
      },
      "execution_count": 326,
      "outputs": [
        {
          "output_type": "stream",
          "name": "stdout",
          "text": [
            "object\n",
            "object\n",
            "object\n",
            "object\n",
            "object\n"
          ]
        }
      ]
    },
    {
      "cell_type": "code",
      "source": [
        "# LOC2\n",
        "df['LOC2']=df['LOC2'].astype('object')"
      ],
      "metadata": {
        "id": "i5nxLIo-_dc6"
      },
      "execution_count": 327,
      "outputs": []
    },
    {
      "cell_type": "code",
      "source": [
        "df.dtypes.value_counts().plot.pie()\n",
        "plt.ylabel('')"
      ],
      "metadata": {
        "colab": {
          "base_uri": "https://localhost:8080/",
          "height": 266
        },
        "id": "jRUXrnEM_KAQ",
        "outputId": "2e67a533-5934-4797-bd31-33bf7b337244"
      },
      "execution_count": 328,
      "outputs": [
        {
          "output_type": "execute_result",
          "data": {
            "text/plain": [
              "Text(0, 0.5, '')"
            ]
          },
          "metadata": {},
          "execution_count": 328
        },
        {
          "output_type": "display_data",
          "data": {
            "text/plain": [
              "<Figure size 432x288 with 1 Axes>"
            ],
            "image/png": "[encoded data removed]"
          },
          "metadata": {}
        }
      ]
    },
    {
      "cell_type": "code",
      "source": [
        "def generate_status(time_l):\n",
        "  stat = list()\n",
        "  for i in time_l:\n",
        "    if i==0:\n",
        "      stat.append(False)\n",
        "    else:\n",
        "      stat.append(True)\n",
        "  return stat"
      ],
      "metadata": {
        "id": "XKqDqsnPPUzG"
      },
      "execution_count": 329,
      "outputs": []
    },
    {
      "cell_type": "code",
      "source": [
        "def get_delta_time(df, start, end):\n",
        "  d = df[end] - df[start]\n",
        "  d = pd.Series(d).fillna(pd.Timedelta(days=0)).tolist()\n",
        "  time_l = [i.days for i in d]\n",
        "  status = generate_status(time_l)\n",
        "  return time_l, status"
      ],
      "metadata": {
        "id": "PqdItCNNk2ND"
      },
      "execution_count": 330,
      "outputs": []
    },
    {
      "cell_type": "code",
      "source": [
        "# to date time\n",
        "my_dates = ['DATECHIR1','DATERECIDIVE','FINCHIMIO2','DATEDECES']\n",
        "for col in my_dates:\n",
        "  for row in df[col]:\n",
        "    if isinstance(row, str):\n",
        "      new_date = pd.to_datetime(row.strip(), format='%d/%m/%Y')\n",
        "      df[col] = df[col].replace({row:new_date})"
      ],
      "metadata": {
        "id": "lH2nPX3TlHOu"
      },
      "execution_count": 331,
      "outputs": []
    },
    {
      "cell_type": "code",
      "source": [
        "# generqte times qnd status\n",
        "df['PFS1'],df['PROG1'] = get_delta_time(df, 'DATECHIR1', 'DATERECIDIVE')\n",
        "df['PFS2'], df['PROG2'] = get_delta_time(df, 'DATERECIDIVE', 'FINCHIMIO2')\n",
        "df['OS1'], df['DCD1'] = get_delta_time(df, 'DATECHIR1','DATEDECES')\n",
        "df['OS2'], df['DCD2'] = get_delta_time(df, 'DATERECIDIVE','DATEDECES')"
      ],
      "metadata": {
        "id": "cKk39Gv3A6fO"
      },
      "execution_count": 332,
      "outputs": []
    },
    {
      "cell_type": "code",
      "source": [
        "# REBOUILLAT_PASCAL prend la chimio2 avant sa premiere recidive ??? a revoir avec Audrey\n",
        "print\n",
        "(\n",
        "    df['DATERECIDIVE'][df.index=='REBOUILLAT_PASCAL'],\n",
        "    df['DATECHIMIO2'][df.index=='REBOUILLAT_PASCAL']\n",
        ")"
      ],
      "metadata": {
        "colab": {
          "base_uri": "https://localhost:8080/"
        },
        "id": "s2H60W9dRCTO",
        "outputId": "19a7f097-a87b-43e1-c6d9-b6591712f675"
      },
      "execution_count": 333,
      "outputs": [
        {
          "output_type": "execute_result",
          "data": {
            "text/plain": [
              "(ID\n",
              " REBOUILLAT_PASCAL   2016-10-01\n",
              " Name: DATERECIDIVE, dtype: datetime64[ns], ID\n",
              " REBOUILLAT_PASCAL    2016-09-01 00:00:00\n",
              " Name: DATECHIMIO2, dtype: object)"
            ]
          },
          "metadata": {},
          "execution_count": 333
        }
      ]
    },
    {
      "cell_type": "code",
      "source": [
        "df['OS2']['REBOUILLAT_PASCAL'] = abs(df['OS2']['REBOUILLAT_PASCAL'])"
      ],
      "metadata": {
        "colab": {
          "base_uri": "https://localhost:8080/"
        },
        "id": "g43whTWAS6Nj",
        "outputId": "b8f7a62b-0098-446e-9ceb-df0748471d04"
      },
      "execution_count": 334,
      "outputs": [
        {
          "output_type": "stream",
          "name": "stderr",
          "text": [
            "/usr/local/lib/python3.7/dist-packages/ipykernel_launcher.py:1: SettingWithCopyWarning: \n",
            "A value is trying to be set on a copy of a slice from a DataFrame\n",
            "\n",
            "See the caveats in the documentation: https://pandas.pydata.org/pandas-docs/stable/user_guide/indexing.html#returning-a-view-versus-a-copy\n",
            "  \"\"\"Entry point for launching an IPython kernel.\n"
          ]
        }
      ]
    },
    {
      "cell_type": "code",
      "source": [
        "#df.to_csv('merge_df.csv')"
      ],
      "metadata": {
        "id": "s0ko6eeyTi4m"
      },
      "execution_count": 272,
      "outputs": []
    },
    {
      "cell_type": "markdown",
      "source": [
        "**DESCRIPTION**"
      ],
      "metadata": {
        "id": "Ihn5OeK6TuaD"
      }
    },
    {
      "cell_type": "code",
      "source": [
        "data_x = df[['SEXE', 'DIABETE', 'CŒUR', 'REINS', 'IMMUNODEP', 'TABAC','TYPECHIR1', 'BIOPSIE1',\n",
        " 'COMPLICATION1', 'IDH', 'MGMT', 'LOC1', 'COTE','KPS1','LOC2','TYPECHIR2','COMPLICATION2',\n",
        " 'KPS2', 'EPILEPSIE', 'AEG', 'DEFICIT', 'CTC2', 'DECES', 'GROUP']]"
      ],
      "metadata": {
        "id": "k1nnibZqUPNr"
      },
      "execution_count": 335,
      "outputs": []
    },
    {
      "cell_type": "code",
      "source": [
        "def count_object(df):\n",
        "  dic = dict()\n",
        "  for col in df.columns:\n",
        "    dic_bis = dict()\n",
        "    for i in range(len(df[col].value_counts().index)):\n",
        "      dic_bis[df[col].value_counts().index[i]] = df[col].value_counts().values[i]\n",
        "    dic[col] = dic_bis\n",
        "  return pd.DataFrame(dic.items(), columns=['col','val'])"
      ],
      "metadata": {
        "id": "J3U_reqiTxpq"
      },
      "execution_count": 336,
      "outputs": []
    },
    {
      "cell_type": "code",
      "source": [
        "val_counts = pd.merge(\n",
        "    count_object(data_x[data_x['GROUP']=='surg']),\n",
        "    count_object(data_x[data_x['GROUP']=='rad']),\n",
        "    on='col'\n",
        ")\n",
        "val_counts = val_counts.rename(columns={'val_x':'surgery cohort',\n",
        "                           'val_y':'radioT cohort'})"
      ],
      "metadata": {
        "id": "Sn8V3nDWUHGk"
      },
      "execution_count": 337,
      "outputs": []
    },
    {
      "cell_type": "code",
      "source": [
        "#val_counts.to_csv('val_counts.csv')"
      ],
      "metadata": {
        "id": "x_oQOkTXVQZF"
      },
      "execution_count": 289,
      "outputs": []
    },
    {
      "cell_type": "code",
      "source": [
        "def describe_variables(class_, df):\n",
        "  describe = pd.DataFrame(index=['count', 'mean', 'std', 'min', '25%', '50%', '75%', 'max'])\n",
        "  for col in df.select_dtypes('int'):\n",
        "    describe[col] = df[col][df['GROUP']==class_].describe().values\n",
        "  return describe"
      ],
      "metadata": {
        "id": "M1U8UK1IXL05"
      },
      "execution_count": 338,
      "outputs": []
    },
    {
      "cell_type": "code",
      "source": [
        "#describe_variables('rad', df).to_csv('describe_rad_cohort.csv')"
      ],
      "metadata": {
        "id": "bXWBFJS-YOF8"
      },
      "execution_count": 315,
      "outputs": []
    },
    {
      "cell_type": "code",
      "source": [
        "#describe_variables('surg', df).to_csv('describe_surg_cohort.csv')"
      ],
      "metadata": {
        "id": "YopYwwhhaBjK"
      },
      "execution_count": 316,
      "outputs": []
    },
    {
      "cell_type": "markdown",
      "source": [
        "**chi2 test (categories)**"
      ],
      "metadata": {
        "id": "HSJbiUE8bekT"
      }
    },
    {
      "cell_type": "code",
      "source": [
        ""
      ],
      "metadata": {
        "id": "VWvRQTMtclc8"
      },
      "execution_count": 374,
      "outputs": []
    },
    {
      "cell_type": "code",
      "source": [
        "import scipy.stats as stats\n",
        "chi_test = pd.DataFrame(columns=['chi_square','p_value', 'dof'])\n",
        "for col in data_x.columns:\n",
        "  data_crosstab = pd.crosstab(data_x['GROUP'], data_x[col],margins=True, margins_name=\"Total\")\n",
        "  chi_test.loc[col, :] = stats.chi2_contingency(data_crosstab)[:3]"
      ],
      "metadata": {
        "id": "EGExY7jhfkTH"
      },
      "execution_count": 379,
      "outputs": []
    },
    {
      "cell_type": "code",
      "source": [
        "#chi_test.to_csv('chi_square_test.csv')"
      ],
      "metadata": {
        "id": "l3dthiqjlf-b"
      },
      "execution_count": 386,
      "outputs": []
    },
    {
      "cell_type": "markdown",
      "source": [
        "**wilconxon test (int)**"
      ],
      "metadata": {
        "id": "4mUlXuzQoCfk"
      }
    },
    {
      "cell_type": "code",
      "source": [
        "# show the violation between normality for some variables ===> because wilcoxon test ask for that\n",
        "plt.figure(figsize=(10,10))\n",
        "for i,col in enumerate(df.select_dtypes('int')):\n",
        "  plt.subplot(3,2,i +1)\n",
        "  stats.probplot(df[col], dist=\"norm\", plot=plt)\n",
        "  plt.title(f\"{col} After Q-Q Plot\")\n",
        "  # set the spacing between subplots\n",
        "plt.subplots_adjust(left=0.1, bottom=0.1, right=0.9, top=0.9, wspace=0.4,  hspace=0.4)\n",
        "#plt.savefig(\"BP_After_QQ.png\")"
      ],
      "metadata": {
        "colab": {
          "base_uri": "https://localhost:8080/",
          "height": 654
        },
        "id": "AnxpvaUgqNSD",
        "outputId": "637b8abd-86ed-4b20-d863-22cd9e155a4e"
      },
      "execution_count": 403,
      "outputs": [
        {
          "output_type": "display_data",
          "data": {
            "text/plain": [
              "<Figure size 720x720 with 5 Axes>"
            ],
            "image/png": "[encoded data removed]"
          },
          "metadata": {
            "needs_background": "light"
          }
        }
      ]
    },
    {
      "cell_type": "code",
      "source": [
        "a = np.array(df['AGE'])\n",
        "np.random.choice()"
      ],
      "metadata": {
        "colab": {
          "base_uri": "https://localhost:8080/",
          "height": 191
        },
        "id": "qbWxdL2vxMQv",
        "outputId": "9f5a513f-6132-4ebe-be46-f3371cf4e093"
      },
      "execution_count": 428,
      "outputs": [
        {
          "output_type": "error",
          "ename": "TypeError",
          "evalue": "ignored",
          "traceback": [
            "\u001b[0;31m---------------------------------------------------------------------------\u001b[0m",
            "\u001b[0;31mTypeError\u001b[0m                                 Traceback (most recent call last)",
            "\u001b[0;32m<ipython-input-428-fa79ed5dcc0b>\u001b[0m in \u001b[0;36m<module>\u001b[0;34m()\u001b[0m\n\u001b[1;32m      1\u001b[0m np.random.choice(a = np.array(df['AGE'][df['GROUP']=='surg'],\n\u001b[0;32m----> 2\u001b[0;31m                           size = len(np.array(df['AGE'][df['GROUP']=='rad']))))\n\u001b[0m",
            "\u001b[0;31mTypeError\u001b[0m: array() got an unexpected keyword argument 'size'"
          ]
        }
      ]
    },
    {
      "cell_type": "code",
      "source": [
        "from scipy.stats import wilcoxon\n",
        "for i,col in enumerate(df.select_dtypes('int')):\n",
        "  plt.subplot(3,2,i +1)\n",
        "  sns.boxplot(x=\"GROUP\", y=col,data=df, palette=\"Set3\")\n",
        "  sns.swarmplot(x=\"GROUP\", y=col,data=df, color=\".25\")\n",
        "  surg = np.array(df[col][df['GROUP']=='surg'])\n",
        "  rad  = np.array(df[col][df['GROUP']=='rad'])\n",
        "  rad = np.random.choice(surg, 22)\n",
        "  print(len(rad))\n",
        "  print(len(surg))\n",
        "  w, p = wilcoxon(surg, rad)\n",
        "  plt.title(f\"{col} | {p}\")\n",
        "  ccl = False\n",
        "  if p <= 0.05:\n",
        "    ccl = True\n",
        "  print(col, w, p, ccl)"
      ],
      "metadata": {
        "colab": {
          "base_uri": "https://localhost:8080/",
          "height": 520
        },
        "id": "lr28aZcZoTjn",
        "outputId": "bc60514f-fcac-4594-8488-ee9fe64d77b5"
      },
      "execution_count": 430,
      "outputs": [
        {
          "output_type": "stream",
          "name": "stdout",
          "text": [
            "22\n",
            "29\n"
          ]
        },
        {
          "output_type": "error",
          "ename": "ValueError",
          "evalue": "ignored",
          "traceback": [
            "\u001b[0;31m---------------------------------------------------------------------------\u001b[0m",
            "\u001b[0;31mValueError\u001b[0m                                Traceback (most recent call last)",
            "\u001b[0;32m<ipython-input-430-7c5e97a9fbcb>\u001b[0m in \u001b[0;36m<module>\u001b[0;34m()\u001b[0m\n\u001b[1;32m      9\u001b[0m   \u001b[0mprint\u001b[0m\u001b[0;34m(\u001b[0m\u001b[0mlen\u001b[0m\u001b[0;34m(\u001b[0m\u001b[0mrad\u001b[0m\u001b[0;34m)\u001b[0m\u001b[0;34m)\u001b[0m\u001b[0;34m\u001b[0m\u001b[0;34m\u001b[0m\u001b[0m\n\u001b[1;32m     10\u001b[0m   \u001b[0mprint\u001b[0m\u001b[0;34m(\u001b[0m\u001b[0mlen\u001b[0m\u001b[0;34m(\u001b[0m\u001b[0msurg\u001b[0m\u001b[0;34m)\u001b[0m\u001b[0;34m)\u001b[0m\u001b[0;34m\u001b[0m\u001b[0;34m\u001b[0m\u001b[0m\n\u001b[0;32m---> 11\u001b[0;31m   \u001b[0mw\u001b[0m\u001b[0;34m,\u001b[0m \u001b[0mp\u001b[0m \u001b[0;34m=\u001b[0m \u001b[0mwilcoxon\u001b[0m\u001b[0;34m(\u001b[0m\u001b[0msurg\u001b[0m\u001b[0;34m,\u001b[0m \u001b[0mrad\u001b[0m\u001b[0;34m)\u001b[0m\u001b[0;34m\u001b[0m\u001b[0;34m\u001b[0m\u001b[0m\n\u001b[0m\u001b[1;32m     12\u001b[0m   \u001b[0mplt\u001b[0m\u001b[0;34m.\u001b[0m\u001b[0mtitle\u001b[0m\u001b[0;34m(\u001b[0m\u001b[0;34mf\"{col} | {p}\"\u001b[0m\u001b[0;34m)\u001b[0m\u001b[0;34m\u001b[0m\u001b[0;34m\u001b[0m\u001b[0m\n\u001b[1;32m     13\u001b[0m   \u001b[0mccl\u001b[0m \u001b[0;34m=\u001b[0m \u001b[0;32mFalse\u001b[0m\u001b[0;34m\u001b[0m\u001b[0;34m\u001b[0m\u001b[0m\n",
            "\u001b[0;32m/usr/local/lib/python3.7/dist-packages/scipy/stats/morestats.py\u001b[0m in \u001b[0;36mwilcoxon\u001b[0;34m(x, y, zero_method, correction, alternative)\u001b[0m\n\u001b[1;32m   2862\u001b[0m             \u001b[0;32mraise\u001b[0m \u001b[0mValueError\u001b[0m\u001b[0;34m(\u001b[0m\u001b[0;34m'Samples x and y must be one-dimensional.'\u001b[0m\u001b[0;34m)\u001b[0m\u001b[0;34m\u001b[0m\u001b[0;34m\u001b[0m\u001b[0m\n\u001b[1;32m   2863\u001b[0m         \u001b[0;32mif\u001b[0m \u001b[0mlen\u001b[0m\u001b[0;34m(\u001b[0m\u001b[0mx\u001b[0m\u001b[0;34m)\u001b[0m \u001b[0;34m!=\u001b[0m \u001b[0mlen\u001b[0m\u001b[0;34m(\u001b[0m\u001b[0my\u001b[0m\u001b[0;34m)\u001b[0m\u001b[0;34m:\u001b[0m\u001b[0;34m\u001b[0m\u001b[0;34m\u001b[0m\u001b[0m\n\u001b[0;32m-> 2864\u001b[0;31m             \u001b[0;32mraise\u001b[0m \u001b[0mValueError\u001b[0m\u001b[0;34m(\u001b[0m\u001b[0;34m'The samples x and y must have the same length.'\u001b[0m\u001b[0;34m)\u001b[0m\u001b[0;34m\u001b[0m\u001b[0;34m\u001b[0m\u001b[0m\n\u001b[0m\u001b[1;32m   2865\u001b[0m         \u001b[0md\u001b[0m \u001b[0;34m=\u001b[0m \u001b[0mx\u001b[0m \u001b[0;34m-\u001b[0m \u001b[0my\u001b[0m\u001b[0;34m\u001b[0m\u001b[0;34m\u001b[0m\u001b[0m\n\u001b[1;32m   2866\u001b[0m \u001b[0;34m\u001b[0m\u001b[0m\n",
            "\u001b[0;31mValueError\u001b[0m: The samples x and y must have the same length."
          ]
        },
        {
          "output_type": "display_data",
          "data": {
            "text/plain": [
              "<Figure size 432x288 with 1 Axes>"
            ],
            "image/png": "[encoded data removed]"
          },
          "metadata": {
            "needs_background": "light"
          }
        }
      ]
    },
    {
      "cell_type": "code",
      "source": [
        "import seaborn as sns\n",
        "sns.boxplot(x=\"GROUP\", y=\"AGE\",data=df, palette=\"Set3\")\n",
        "sns.swarmplot(x=\"GROUP\", y=\"AGE\",data=df, color=\".25\")"
      ],
      "metadata": {
        "colab": {
          "base_uri": "https://localhost:8080/",
          "height": 297
        },
        "id": "nZGRlAc1ufp_",
        "outputId": "e77bc390-88bc-4363-bb86-e186c1260f8a"
      },
      "execution_count": 423,
      "outputs": [
        {
          "output_type": "execute_result",
          "data": {
            "text/plain": [
              "<matplotlib.axes._subplots.AxesSubplot at 0x7f438e660790>"
            ]
          },
          "metadata": {},
          "execution_count": 423
        },
        {
          "output_type": "display_data",
          "data": {
            "text/plain": [
              "<Figure size 432x288 with 1 Axes>"
            ],
            "image/png": "[encoded data removed]"
          },
          "metadata": {
            "needs_background": "light"
          }
        }
      ]
    },
    {
      "cell_type": "code",
      "source": [
        ""
      ],
      "metadata": {
        "id": "RYcHyQuvvGMg"
      },
      "execution_count": null,
      "outputs": []
    }
  ]
}